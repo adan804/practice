{
 "cells": [
  {
   "cell_type": "code",
   "execution_count": 38,
   "id": "ddf21ef3-9df3-489b-9312-8cfe8f768ec3",
   "metadata": {},
   "outputs": [
    {
     "name": "stdout",
     "output_type": "stream",
     "text": [
      "Hello, Adan Shah! The current time is 19:55:08.442997.\n"
     ]
    }
   ],
   "source": [
    "#question 1: simple function\n",
    "from datetime import datetime\n",
    "\n",
    "def greet_with_time(name):\n",
    "    current_time = datetime.now().time()\n",
    "    print(f\"Hello, {name}! The current time is {current_time}.\")\n",
    "greet_with_time(\"Adan Shah\")\n"
   ]
  },
  {
   "cell_type": "code",
   "execution_count": 3,
   "id": "7fbafc05-447b-4a7d-b893-8335a69a7257",
   "metadata": {},
   "outputs": [
    {
     "name": "stdout",
     "output_type": "stream",
     "text": [
      "20.0\n"
     ]
    }
   ],
   "source": [
    "#question no 2:Function with Multiple Parameters\n",
    "def calculate_average(num1, num2, num3):\n",
    "    return (num1 + num2 + num3) / 3\n",
    "average = calculate_average(10, 20, 30)\n",
    "print(average)\n"
   ]
  },
  {
   "cell_type": "code",
   "execution_count": 36,
   "id": "7cc97d18-6b97-4fe0-b86b-80e6de90d0d6",
   "metadata": {},
   "outputs": [
    {
     "name": "stdout",
     "output_type": "stream",
     "text": [
      "Name: Adan Shah, Age: 18, City: Lahore\n"
     ]
    }
   ],
   "source": [
    "#question3\n",
    "#keyword Argument\n",
    "def print_info(name, age, city):\n",
    "    print(f\"Name: {name}, Age: {age}, City: {city}\")\n",
    "\n",
    "# Example usage\n",
    "print_info(name=\"Adan Shah\", age=18, city=\"Lahore\")\n"
   ]
  },
  {
   "cell_type": "code",
   "execution_count": 7,
   "id": "9474aa8a-c454-4253-8578-e45cb3d88622",
   "metadata": {},
   "outputs": [
    {
     "name": "stdout",
     "output_type": "stream",
     "text": [
      "100\n"
     ]
    }
   ],
   "source": [
    "#question 4\n",
    "#Variable-Length Arguments\n",
    "def find_max(numbers):\n",
    "    return max(numbers)\n",
    "\n",
    "# Example usage\n",
    "maximum = find_max([10, 20, 30, 5, 100])\n",
    "print(maximum)\n"
   ]
  },
  {
   "cell_type": "code",
   "execution_count": 9,
   "id": "180f2b5a-4936-463d-9e52-1bae789bca37",
   "metadata": {},
   "outputs": [
    {
     "name": "stdout",
     "output_type": "stream",
     "text": [
      "120\n"
     ]
    }
   ],
   "source": [
    "#question 5\n",
    "#Variable-Length Arguments\n",
    "def factorial(n):\n",
    "    if n == 0 or n == 1:  # Base case\n",
    "        return 1\n",
    "    else:\n",
    "        return n * factorial(n - 1)  # Recursive case\n",
    "\n",
    "# Example usage\n",
    "result = factorial(5)\n",
    "print(result)\n"
   ]
  },
  {
   "cell_type": "code",
   "execution_count": 13,
   "id": "7cc1265d-3a6d-4cf4-9b2a-106311f02fb2",
   "metadata": {},
   "outputs": [
    {
     "name": "stdout",
     "output_type": "stream",
     "text": [
      "[2, 4, 6, 8]\n"
     ]
    }
   ],
   "source": [
    "#question 6\n",
    "#Function as an argument\n",
    "def apply_function(func, numbers):\n",
    "    return [func(num) for num in numbers]\n",
    "\n",
    "# Example usage\n",
    "result = apply_function(lambda x: x * 2, [1, 2, 3, 4])\n",
    "print(result)  # Output: [2, 4, 6, 8]\n",
    "\n"
   ]
  },
  {
   "cell_type": "code",
   "execution_count": 22,
   "id": "9095855d-4044-475f-bae6-086bbc56623f",
   "metadata": {},
   "outputs": [
    {
     "name": "stdout",
     "output_type": "stream",
     "text": [
      "25\n"
     ]
    }
   ],
   "source": [
    "#question 7\n",
    "#Lambda function\n",
    "square = lambda x: x ** 2\n",
    "\n",
    "# Example usage\n",
    "result = square(5)\n",
    "print(result)  # Output: 25\n",
    "\n",
    " \n",
    "\n"
   ]
  },
  {
   "cell_type": "code",
   "execution_count": 15,
   "id": "36cfd492-7706-465f-850a-cf4bf0611339",
   "metadata": {},
   "outputs": [
    {
     "name": "stdout",
     "output_type": "stream",
     "text": [
      "[1, 4, 9, 16]\n"
     ]
    }
   ],
   "source": [
    "#question 8\n",
    "#Higher-order Function\n",
    "def apply_operation(func, numbers):\n",
    "    return [func(num) for num in numbers]\n",
    "\n",
    "# Example usage\n",
    "result = apply_operation(lambda x: x ** 2, [1, 2, 3, 4])\n",
    "print(result)  # Output: [1, 4, 9, 16]\n"
   ]
  },
  {
   "cell_type": "code",
   "execution_count": 19,
   "id": "790ed144-803b-49e4-b95a-0e3074955bb1",
   "metadata": {},
   "outputs": [
    {
     "name": "stdout",
     "output_type": "stream",
     "text": [
      "Execution time: 2.0010 seconds\n"
     ]
    }
   ],
   "source": [
    "#question 9\n",
    "#function decorators\n",
    "import time\n",
    "\n",
    "def measure_time(func):\n",
    "    def wrapper():\n",
    "        start_time = time.time()\n",
    "        func()  # Call the original function\n",
    "        end_time = time.time()\n",
    "        print(f\"Execution time: {end_time - start_time:.4f} seconds\")\n",
    "    return wrapper\n",
    "\n",
    "def say_hello():\n",
    "    time.sleep(2)  # Simulating a delay of 2 seconds\n",
    "\n",
    "# Applying the decorator manually\n",
    "say_hello = measure_time(say_hello)\n",
    "\n",
    "say_hello() \n",
    "\n"
   ]
  },
  {
   "cell_type": "code",
   "execution_count": null,
   "id": "ed91fead-67cd-4f78-90aa-40ccbf34dc16",
   "metadata": {},
   "outputs": [],
   "source": []
  }
 ],
 "metadata": {
  "kernelspec": {
   "display_name": "Python 3 (ipykernel)",
   "language": "python",
   "name": "python3"
  },
  "language_info": {
   "codemirror_mode": {
    "name": "ipython",
    "version": 3
   },
   "file_extension": ".py",
   "mimetype": "text/x-python",
   "name": "python",
   "nbconvert_exporter": "python",
   "pygments_lexer": "ipython3",
   "version": "3.12.4"
  }
 },
 "nbformat": 4,
 "nbformat_minor": 5
}
